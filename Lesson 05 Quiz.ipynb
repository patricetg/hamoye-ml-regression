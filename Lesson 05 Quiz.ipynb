{
 "cells": [
  {
   "cell_type": "code",
   "execution_count": 1,
   "id": "e8c929af",
   "metadata": {},
   "outputs": [],
   "source": [
    "import pandas as pd\n",
    "import numpy as np"
   ]
  },
  {
   "cell_type": "code",
   "execution_count": null,
   "id": "42c51127",
   "metadata": {},
   "outputs": [],
   "source": []
  },
  {
   "cell_type": "markdown",
   "id": "f67f448b",
   "metadata": {},
   "source": [
    "## Dataset\n",
    "\n",
    "### Description\n",
    "The dataset for the remainder of this quiz is the Appliances Energy Prediction data. The data set is at 10 min for about 4.5 months. The house temperature and humidity conditions were monitored with a ZigBee wireless sensor network. Each wireless node transmitted the temperature and humidity conditions around 3.3 min. Then, the wireless data was averaged for 10 minutes periods. The energy data was logged every 10 minutes with m-bus energy meters. Weather from the nearest airport weather station (Chievres Airport, Belgium) was downloaded from a public data set from Reliable Prognosis (rp5.ru), and merged together with the experimental data sets using the date and time column. Two random variables have been included in the data set for testing the regression models and to filter out non predictive attributes (parameters)\n",
    "\n",
    "### Features\n",
    "Date, time year-month-day hour:minute:second\n",
    "\n",
    "Appliances, energy use in Wh\n",
    "\n",
    "lights, energy use of light fixtures in the house in Wh\n",
    "\n",
    "T1, Temperature in kitchen area, in Celsius\n",
    "\n",
    "RH_1, Humidity in kitchen area, in %\n",
    "\n",
    "T2, Temperature in living room area, in Celsius\n",
    "\n",
    "RH_2, Humidity in living room area, in %\n",
    "\n",
    "T3, Temperature in laundry room area\n",
    "\n",
    "RH_3, Humidity in laundry room area, in %\n",
    "\n",
    "T4, Temperature in office room, in Celsius\n",
    "\n",
    "RH_4, Humidity in office room, in %\n",
    "\n",
    "T5, Temperature in bathroom, in Celsius\n",
    "\n",
    "RH_5, Humidity in bathroom, in %\n",
    "\n",
    "T6, Temperature outside the building (north side), in Celsius\n",
    "\n",
    "RH_6, Humidity outside the building (north side), in %\n",
    "\n",
    "T7, Temperature in ironing room , in Celsius\n",
    "\n",
    "RH_7, Humidity in ironing room, in %\n",
    "\n",
    "T8, Temperature in teenager room 2, in Celsius\n",
    "\n",
    "RH_8, Humidity in teenager room 2, in %\n",
    "\n",
    "T9, Temperature in parents room, in Celsius\n",
    "\n",
    "RH_9, Humidity in parents room, in %\n",
    "\n",
    "To, Temperature outside (from Chievres weather station), in Celsius\n",
    "\n",
    "Pressure (from Chievres weather station), in mm Hg\n",
    "\n",
    "RH_out, Humidity outside (from Chievres weather station), in %\n",
    "\n",
    "Wind speed (from Chievres weather station), in m/s\n",
    "\n",
    "Visibility (from Chievres weather station), in km\n",
    "\n",
    "Tdewpoint (from Chievres weather station), Â°C\n",
    "\n",
    "rv1, Random variable 1, nondimensional\n",
    "\n",
    "rv2, Random variable 2, nondimensional"
   ]
  },
  {
   "cell_type": "code",
   "execution_count": null,
   "id": "b9934a58",
   "metadata": {},
   "outputs": [],
   "source": []
  },
  {
   "cell_type": "code",
   "execution_count": 2,
   "id": "61e61a5f",
   "metadata": {},
   "outputs": [
    {
     "data": {
      "text/html": [
       "<div>\n",
       "<style scoped>\n",
       "    .dataframe tbody tr th:only-of-type {\n",
       "        vertical-align: middle;\n",
       "    }\n",
       "\n",
       "    .dataframe tbody tr th {\n",
       "        vertical-align: top;\n",
       "    }\n",
       "\n",
       "    .dataframe thead th {\n",
       "        text-align: right;\n",
       "    }\n",
       "</style>\n",
       "<table border=\"1\" class=\"dataframe\">\n",
       "  <thead>\n",
       "    <tr style=\"text-align: right;\">\n",
       "      <th></th>\n",
       "      <th>0</th>\n",
       "      <th>1</th>\n",
       "      <th>2</th>\n",
       "      <th>3</th>\n",
       "      <th>4</th>\n",
       "    </tr>\n",
       "  </thead>\n",
       "  <tbody>\n",
       "    <tr>\n",
       "      <th>date</th>\n",
       "      <td>2016-01-11 17:00:00</td>\n",
       "      <td>2016-01-11 17:10:00</td>\n",
       "      <td>2016-01-11 17:20:00</td>\n",
       "      <td>2016-01-11 17:30:00</td>\n",
       "      <td>2016-01-11 17:40:00</td>\n",
       "    </tr>\n",
       "    <tr>\n",
       "      <th>Appliances</th>\n",
       "      <td>60</td>\n",
       "      <td>60</td>\n",
       "      <td>50</td>\n",
       "      <td>50</td>\n",
       "      <td>60</td>\n",
       "    </tr>\n",
       "    <tr>\n",
       "      <th>lights</th>\n",
       "      <td>30</td>\n",
       "      <td>30</td>\n",
       "      <td>30</td>\n",
       "      <td>40</td>\n",
       "      <td>40</td>\n",
       "    </tr>\n",
       "    <tr>\n",
       "      <th>T1</th>\n",
       "      <td>19.89</td>\n",
       "      <td>19.89</td>\n",
       "      <td>19.89</td>\n",
       "      <td>19.89</td>\n",
       "      <td>19.89</td>\n",
       "    </tr>\n",
       "    <tr>\n",
       "      <th>RH_1</th>\n",
       "      <td>47.596667</td>\n",
       "      <td>46.693333</td>\n",
       "      <td>46.3</td>\n",
       "      <td>46.066667</td>\n",
       "      <td>46.333333</td>\n",
       "    </tr>\n",
       "    <tr>\n",
       "      <th>T2</th>\n",
       "      <td>19.2</td>\n",
       "      <td>19.2</td>\n",
       "      <td>19.2</td>\n",
       "      <td>19.2</td>\n",
       "      <td>19.2</td>\n",
       "    </tr>\n",
       "    <tr>\n",
       "      <th>RH_2</th>\n",
       "      <td>44.79</td>\n",
       "      <td>44.7225</td>\n",
       "      <td>44.626667</td>\n",
       "      <td>44.59</td>\n",
       "      <td>44.53</td>\n",
       "    </tr>\n",
       "    <tr>\n",
       "      <th>T3</th>\n",
       "      <td>19.79</td>\n",
       "      <td>19.79</td>\n",
       "      <td>19.79</td>\n",
       "      <td>19.79</td>\n",
       "      <td>19.79</td>\n",
       "    </tr>\n",
       "    <tr>\n",
       "      <th>RH_3</th>\n",
       "      <td>44.73</td>\n",
       "      <td>44.79</td>\n",
       "      <td>44.933333</td>\n",
       "      <td>45.0</td>\n",
       "      <td>45.0</td>\n",
       "    </tr>\n",
       "    <tr>\n",
       "      <th>T4</th>\n",
       "      <td>19.0</td>\n",
       "      <td>19.0</td>\n",
       "      <td>18.926667</td>\n",
       "      <td>18.89</td>\n",
       "      <td>18.89</td>\n",
       "    </tr>\n",
       "    <tr>\n",
       "      <th>RH_4</th>\n",
       "      <td>45.566667</td>\n",
       "      <td>45.9925</td>\n",
       "      <td>45.89</td>\n",
       "      <td>45.723333</td>\n",
       "      <td>45.53</td>\n",
       "    </tr>\n",
       "    <tr>\n",
       "      <th>T5</th>\n",
       "      <td>17.166667</td>\n",
       "      <td>17.166667</td>\n",
       "      <td>17.166667</td>\n",
       "      <td>17.166667</td>\n",
       "      <td>17.2</td>\n",
       "    </tr>\n",
       "    <tr>\n",
       "      <th>RH_5</th>\n",
       "      <td>55.2</td>\n",
       "      <td>55.2</td>\n",
       "      <td>55.09</td>\n",
       "      <td>55.09</td>\n",
       "      <td>55.09</td>\n",
       "    </tr>\n",
       "    <tr>\n",
       "      <th>T6</th>\n",
       "      <td>7.026667</td>\n",
       "      <td>6.833333</td>\n",
       "      <td>6.56</td>\n",
       "      <td>6.433333</td>\n",
       "      <td>6.366667</td>\n",
       "    </tr>\n",
       "    <tr>\n",
       "      <th>RH_6</th>\n",
       "      <td>84.256667</td>\n",
       "      <td>84.063333</td>\n",
       "      <td>83.156667</td>\n",
       "      <td>83.423333</td>\n",
       "      <td>84.893333</td>\n",
       "    </tr>\n",
       "    <tr>\n",
       "      <th>T7</th>\n",
       "      <td>17.2</td>\n",
       "      <td>17.2</td>\n",
       "      <td>17.2</td>\n",
       "      <td>17.133333</td>\n",
       "      <td>17.2</td>\n",
       "    </tr>\n",
       "    <tr>\n",
       "      <th>RH_7</th>\n",
       "      <td>41.626667</td>\n",
       "      <td>41.56</td>\n",
       "      <td>41.433333</td>\n",
       "      <td>41.29</td>\n",
       "      <td>41.23</td>\n",
       "    </tr>\n",
       "    <tr>\n",
       "      <th>T8</th>\n",
       "      <td>18.2</td>\n",
       "      <td>18.2</td>\n",
       "      <td>18.2</td>\n",
       "      <td>18.1</td>\n",
       "      <td>18.1</td>\n",
       "    </tr>\n",
       "    <tr>\n",
       "      <th>RH_8</th>\n",
       "      <td>48.9</td>\n",
       "      <td>48.863333</td>\n",
       "      <td>48.73</td>\n",
       "      <td>48.59</td>\n",
       "      <td>48.59</td>\n",
       "    </tr>\n",
       "    <tr>\n",
       "      <th>T9</th>\n",
       "      <td>17.033333</td>\n",
       "      <td>17.066667</td>\n",
       "      <td>17.0</td>\n",
       "      <td>17.0</td>\n",
       "      <td>17.0</td>\n",
       "    </tr>\n",
       "    <tr>\n",
       "      <th>RH_9</th>\n",
       "      <td>45.53</td>\n",
       "      <td>45.56</td>\n",
       "      <td>45.5</td>\n",
       "      <td>45.4</td>\n",
       "      <td>45.4</td>\n",
       "    </tr>\n",
       "    <tr>\n",
       "      <th>T_out</th>\n",
       "      <td>6.6</td>\n",
       "      <td>6.483333</td>\n",
       "      <td>6.366667</td>\n",
       "      <td>6.25</td>\n",
       "      <td>6.133333</td>\n",
       "    </tr>\n",
       "    <tr>\n",
       "      <th>Press_mm_hg</th>\n",
       "      <td>733.5</td>\n",
       "      <td>733.6</td>\n",
       "      <td>733.7</td>\n",
       "      <td>733.8</td>\n",
       "      <td>733.9</td>\n",
       "    </tr>\n",
       "    <tr>\n",
       "      <th>RH_out</th>\n",
       "      <td>92.0</td>\n",
       "      <td>92.0</td>\n",
       "      <td>92.0</td>\n",
       "      <td>92.0</td>\n",
       "      <td>92.0</td>\n",
       "    </tr>\n",
       "    <tr>\n",
       "      <th>Windspeed</th>\n",
       "      <td>7.0</td>\n",
       "      <td>6.666667</td>\n",
       "      <td>6.333333</td>\n",
       "      <td>6.0</td>\n",
       "      <td>5.666667</td>\n",
       "    </tr>\n",
       "    <tr>\n",
       "      <th>Visibility</th>\n",
       "      <td>63.0</td>\n",
       "      <td>59.166667</td>\n",
       "      <td>55.333333</td>\n",
       "      <td>51.5</td>\n",
       "      <td>47.666667</td>\n",
       "    </tr>\n",
       "    <tr>\n",
       "      <th>Tdewpoint</th>\n",
       "      <td>5.3</td>\n",
       "      <td>5.2</td>\n",
       "      <td>5.1</td>\n",
       "      <td>5.0</td>\n",
       "      <td>4.9</td>\n",
       "    </tr>\n",
       "    <tr>\n",
       "      <th>rv1</th>\n",
       "      <td>13.275433</td>\n",
       "      <td>18.606195</td>\n",
       "      <td>28.642668</td>\n",
       "      <td>45.410389</td>\n",
       "      <td>10.084097</td>\n",
       "    </tr>\n",
       "    <tr>\n",
       "      <th>rv2</th>\n",
       "      <td>13.275433</td>\n",
       "      <td>18.606195</td>\n",
       "      <td>28.642668</td>\n",
       "      <td>45.410389</td>\n",
       "      <td>10.084097</td>\n",
       "    </tr>\n",
       "  </tbody>\n",
       "</table>\n",
       "</div>"
      ],
      "text/plain": [
       "                               0                    1                    2  \\\n",
       "date         2016-01-11 17:00:00  2016-01-11 17:10:00  2016-01-11 17:20:00   \n",
       "Appliances                    60                   60                   50   \n",
       "lights                        30                   30                   30   \n",
       "T1                         19.89                19.89                19.89   \n",
       "RH_1                   47.596667            46.693333                 46.3   \n",
       "T2                          19.2                 19.2                 19.2   \n",
       "RH_2                       44.79              44.7225            44.626667   \n",
       "T3                         19.79                19.79                19.79   \n",
       "RH_3                       44.73                44.79            44.933333   \n",
       "T4                          19.0                 19.0            18.926667   \n",
       "RH_4                   45.566667              45.9925                45.89   \n",
       "T5                     17.166667            17.166667            17.166667   \n",
       "RH_5                        55.2                 55.2                55.09   \n",
       "T6                      7.026667             6.833333                 6.56   \n",
       "RH_6                   84.256667            84.063333            83.156667   \n",
       "T7                          17.2                 17.2                 17.2   \n",
       "RH_7                   41.626667                41.56            41.433333   \n",
       "T8                          18.2                 18.2                 18.2   \n",
       "RH_8                        48.9            48.863333                48.73   \n",
       "T9                     17.033333            17.066667                 17.0   \n",
       "RH_9                       45.53                45.56                 45.5   \n",
       "T_out                        6.6             6.483333             6.366667   \n",
       "Press_mm_hg                733.5                733.6                733.7   \n",
       "RH_out                      92.0                 92.0                 92.0   \n",
       "Windspeed                    7.0             6.666667             6.333333   \n",
       "Visibility                  63.0            59.166667            55.333333   \n",
       "Tdewpoint                    5.3                  5.2                  5.1   \n",
       "rv1                    13.275433            18.606195            28.642668   \n",
       "rv2                    13.275433            18.606195            28.642668   \n",
       "\n",
       "                               3                    4  \n",
       "date         2016-01-11 17:30:00  2016-01-11 17:40:00  \n",
       "Appliances                    50                   60  \n",
       "lights                        40                   40  \n",
       "T1                         19.89                19.89  \n",
       "RH_1                   46.066667            46.333333  \n",
       "T2                          19.2                 19.2  \n",
       "RH_2                       44.59                44.53  \n",
       "T3                         19.79                19.79  \n",
       "RH_3                        45.0                 45.0  \n",
       "T4                         18.89                18.89  \n",
       "RH_4                   45.723333                45.53  \n",
       "T5                     17.166667                 17.2  \n",
       "RH_5                       55.09                55.09  \n",
       "T6                      6.433333             6.366667  \n",
       "RH_6                   83.423333            84.893333  \n",
       "T7                     17.133333                 17.2  \n",
       "RH_7                       41.29                41.23  \n",
       "T8                          18.1                 18.1  \n",
       "RH_8                       48.59                48.59  \n",
       "T9                          17.0                 17.0  \n",
       "RH_9                        45.4                 45.4  \n",
       "T_out                       6.25             6.133333  \n",
       "Press_mm_hg                733.8                733.9  \n",
       "RH_out                      92.0                 92.0  \n",
       "Windspeed                    6.0             5.666667  \n",
       "Visibility                  51.5            47.666667  \n",
       "Tdewpoint                    5.0                  4.9  \n",
       "rv1                    45.410389            10.084097  \n",
       "rv2                    45.410389            10.084097  "
      ]
     },
     "execution_count": 2,
     "metadata": {},
     "output_type": "execute_result"
    }
   ],
   "source": [
    "df= pd.read_csv(\"energydata_complete.csv\")\n",
    "df.head().T"
   ]
  },
  {
   "cell_type": "code",
   "execution_count": null,
   "id": "83e0f71d",
   "metadata": {},
   "outputs": [],
   "source": []
  },
  {
   "cell_type": "code",
   "execution_count": 3,
   "id": "19d1f4cc",
   "metadata": {},
   "outputs": [],
   "source": [
    "from sklearn.linear_model import Lasso,Ridge, LinearRegression\n",
    "from sklearn.model_selection import train_test_split\n",
    "from sklearn.metrics import r2_score, mean_absolute_error, mean_squared_error"
   ]
  },
  {
   "cell_type": "code",
   "execution_count": 4,
   "id": "dde30db6",
   "metadata": {},
   "outputs": [
    {
     "data": {
      "text/html": [
       "<div>\n",
       "<style scoped>\n",
       "    .dataframe tbody tr th:only-of-type {\n",
       "        vertical-align: middle;\n",
       "    }\n",
       "\n",
       "    .dataframe tbody tr th {\n",
       "        vertical-align: top;\n",
       "    }\n",
       "\n",
       "    .dataframe thead th {\n",
       "        text-align: right;\n",
       "    }\n",
       "</style>\n",
       "<table border=\"1\" class=\"dataframe\">\n",
       "  <thead>\n",
       "    <tr style=\"text-align: right;\">\n",
       "      <th></th>\n",
       "      <th>T2</th>\n",
       "    </tr>\n",
       "  </thead>\n",
       "  <tbody>\n",
       "    <tr>\n",
       "      <th>0</th>\n",
       "      <td>19.2</td>\n",
       "    </tr>\n",
       "    <tr>\n",
       "      <th>1</th>\n",
       "      <td>19.2</td>\n",
       "    </tr>\n",
       "    <tr>\n",
       "      <th>2</th>\n",
       "      <td>19.2</td>\n",
       "    </tr>\n",
       "    <tr>\n",
       "      <th>3</th>\n",
       "      <td>19.2</td>\n",
       "    </tr>\n",
       "    <tr>\n",
       "      <th>4</th>\n",
       "      <td>19.2</td>\n",
       "    </tr>\n",
       "  </tbody>\n",
       "</table>\n",
       "</div>"
      ],
      "text/plain": [
       "     T2\n",
       "0  19.2\n",
       "1  19.2\n",
       "2  19.2\n",
       "3  19.2\n",
       "4  19.2"
      ]
     },
     "execution_count": 4,
     "metadata": {},
     "output_type": "execute_result"
    }
   ],
   "source": [
    "X = df.loc[:,[\"T2\"]]\n",
    "X.head()"
   ]
  },
  {
   "cell_type": "code",
   "execution_count": 5,
   "id": "e535078b",
   "metadata": {},
   "outputs": [
    {
     "data": {
      "text/plain": [
       "0    7.026667\n",
       "1    6.833333\n",
       "2    6.560000\n",
       "3    6.433333\n",
       "4    6.366667\n",
       "Name: T6, dtype: float64"
      ]
     },
     "execution_count": 5,
     "metadata": {},
     "output_type": "execute_result"
    }
   ],
   "source": [
    "y = df.loc[:, \"T6\"]\n",
    "y.head()"
   ]
  },
  {
   "cell_type": "code",
   "execution_count": 6,
   "id": "2cb63913",
   "metadata": {},
   "outputs": [
    {
     "data": {
      "text/plain": [
       "((15788, 1), (3947, 1), (15788,), (3947,))"
      ]
     },
     "execution_count": 6,
     "metadata": {},
     "output_type": "execute_result"
    }
   ],
   "source": [
    "X_train, X_test, y_train, y_test = train_test_split(X, y, test_size=.2, random_state=42)\n",
    "\n",
    "X_train.shape, X_test.shape, y_train.shape, y_test.shape"
   ]
  },
  {
   "cell_type": "code",
   "execution_count": null,
   "id": "3c97e3e0",
   "metadata": {},
   "outputs": [],
   "source": []
  },
  {
   "cell_type": "code",
   "execution_count": 7,
   "id": "ba796d88",
   "metadata": {},
   "outputs": [
    {
     "data": {
      "text/plain": [
       "LinearRegression()"
      ]
     },
     "execution_count": 7,
     "metadata": {},
     "output_type": "execute_result"
    }
   ],
   "source": [
    "model = LinearRegression()\n",
    "model.fit(X_train, y_train)"
   ]
  },
  {
   "cell_type": "code",
   "execution_count": 8,
   "id": "f50488b1",
   "metadata": {},
   "outputs": [
    {
     "data": {
      "text/plain": [
       "array([ 2.15562488, 10.01834433,  1.87348764, ..., 14.12418366,\n",
       "       13.30216726, 20.95487478])"
      ]
     },
     "execution_count": 8,
     "metadata": {},
     "output_type": "execute_result"
    }
   ],
   "source": [
    "y_preds = model.predict(X_test)\n",
    "y_preds"
   ]
  },
  {
   "cell_type": "code",
   "execution_count": 9,
   "id": "cf57f5c7",
   "metadata": {},
   "outputs": [
    {
     "data": {
      "text/plain": [
       "0.6385443715749319"
      ]
     },
     "execution_count": 9,
     "metadata": {},
     "output_type": "execute_result"
    }
   ],
   "source": [
    "r2 = r2_score(y_test, y_preds)\n",
    "r2"
   ]
  },
  {
   "cell_type": "code",
   "execution_count": 10,
   "id": "773681c4",
   "metadata": {},
   "outputs": [
    {
     "data": {
      "text/plain": [
       "0.64"
      ]
     },
     "execution_count": 10,
     "metadata": {},
     "output_type": "execute_result"
    }
   ],
   "source": [
    "round(r2,2)"
   ]
  },
  {
   "cell_type": "code",
   "execution_count": null,
   "id": "ba3e4d48",
   "metadata": {},
   "outputs": [],
   "source": []
  },
  {
   "cell_type": "code",
   "execution_count": 11,
   "id": "26a57004",
   "metadata": {},
   "outputs": [],
   "source": [
    "from sklearn.preprocessing import MinMaxScaler"
   ]
  },
  {
   "cell_type": "code",
   "execution_count": 12,
   "id": "fdcf74a1",
   "metadata": {},
   "outputs": [
    {
     "data": {
      "text/html": [
       "<div>\n",
       "<style scoped>\n",
       "    .dataframe tbody tr th:only-of-type {\n",
       "        vertical-align: middle;\n",
       "    }\n",
       "\n",
       "    .dataframe tbody tr th {\n",
       "        vertical-align: top;\n",
       "    }\n",
       "\n",
       "    .dataframe thead th {\n",
       "        text-align: right;\n",
       "    }\n",
       "</style>\n",
       "<table border=\"1\" class=\"dataframe\">\n",
       "  <thead>\n",
       "    <tr style=\"text-align: right;\">\n",
       "      <th></th>\n",
       "      <th>0</th>\n",
       "      <th>1</th>\n",
       "      <th>2</th>\n",
       "      <th>3</th>\n",
       "      <th>4</th>\n",
       "    </tr>\n",
       "  </thead>\n",
       "  <tbody>\n",
       "    <tr>\n",
       "      <th>Appliances</th>\n",
       "      <td>60.000000</td>\n",
       "      <td>60.000000</td>\n",
       "      <td>50.000000</td>\n",
       "      <td>50.000000</td>\n",
       "      <td>60.000000</td>\n",
       "    </tr>\n",
       "    <tr>\n",
       "      <th>T1</th>\n",
       "      <td>19.890000</td>\n",
       "      <td>19.890000</td>\n",
       "      <td>19.890000</td>\n",
       "      <td>19.890000</td>\n",
       "      <td>19.890000</td>\n",
       "    </tr>\n",
       "    <tr>\n",
       "      <th>RH_1</th>\n",
       "      <td>47.596667</td>\n",
       "      <td>46.693333</td>\n",
       "      <td>46.300000</td>\n",
       "      <td>46.066667</td>\n",
       "      <td>46.333333</td>\n",
       "    </tr>\n",
       "    <tr>\n",
       "      <th>T2</th>\n",
       "      <td>19.200000</td>\n",
       "      <td>19.200000</td>\n",
       "      <td>19.200000</td>\n",
       "      <td>19.200000</td>\n",
       "      <td>19.200000</td>\n",
       "    </tr>\n",
       "    <tr>\n",
       "      <th>RH_2</th>\n",
       "      <td>44.790000</td>\n",
       "      <td>44.722500</td>\n",
       "      <td>44.626667</td>\n",
       "      <td>44.590000</td>\n",
       "      <td>44.530000</td>\n",
       "    </tr>\n",
       "    <tr>\n",
       "      <th>T3</th>\n",
       "      <td>19.790000</td>\n",
       "      <td>19.790000</td>\n",
       "      <td>19.790000</td>\n",
       "      <td>19.790000</td>\n",
       "      <td>19.790000</td>\n",
       "    </tr>\n",
       "    <tr>\n",
       "      <th>RH_3</th>\n",
       "      <td>44.730000</td>\n",
       "      <td>44.790000</td>\n",
       "      <td>44.933333</td>\n",
       "      <td>45.000000</td>\n",
       "      <td>45.000000</td>\n",
       "    </tr>\n",
       "    <tr>\n",
       "      <th>T4</th>\n",
       "      <td>19.000000</td>\n",
       "      <td>19.000000</td>\n",
       "      <td>18.926667</td>\n",
       "      <td>18.890000</td>\n",
       "      <td>18.890000</td>\n",
       "    </tr>\n",
       "    <tr>\n",
       "      <th>RH_4</th>\n",
       "      <td>45.566667</td>\n",
       "      <td>45.992500</td>\n",
       "      <td>45.890000</td>\n",
       "      <td>45.723333</td>\n",
       "      <td>45.530000</td>\n",
       "    </tr>\n",
       "    <tr>\n",
       "      <th>T5</th>\n",
       "      <td>17.166667</td>\n",
       "      <td>17.166667</td>\n",
       "      <td>17.166667</td>\n",
       "      <td>17.166667</td>\n",
       "      <td>17.200000</td>\n",
       "    </tr>\n",
       "    <tr>\n",
       "      <th>RH_5</th>\n",
       "      <td>55.200000</td>\n",
       "      <td>55.200000</td>\n",
       "      <td>55.090000</td>\n",
       "      <td>55.090000</td>\n",
       "      <td>55.090000</td>\n",
       "    </tr>\n",
       "    <tr>\n",
       "      <th>T6</th>\n",
       "      <td>7.026667</td>\n",
       "      <td>6.833333</td>\n",
       "      <td>6.560000</td>\n",
       "      <td>6.433333</td>\n",
       "      <td>6.366667</td>\n",
       "    </tr>\n",
       "    <tr>\n",
       "      <th>RH_6</th>\n",
       "      <td>84.256667</td>\n",
       "      <td>84.063333</td>\n",
       "      <td>83.156667</td>\n",
       "      <td>83.423333</td>\n",
       "      <td>84.893333</td>\n",
       "    </tr>\n",
       "    <tr>\n",
       "      <th>T7</th>\n",
       "      <td>17.200000</td>\n",
       "      <td>17.200000</td>\n",
       "      <td>17.200000</td>\n",
       "      <td>17.133333</td>\n",
       "      <td>17.200000</td>\n",
       "    </tr>\n",
       "    <tr>\n",
       "      <th>RH_7</th>\n",
       "      <td>41.626667</td>\n",
       "      <td>41.560000</td>\n",
       "      <td>41.433333</td>\n",
       "      <td>41.290000</td>\n",
       "      <td>41.230000</td>\n",
       "    </tr>\n",
       "    <tr>\n",
       "      <th>T8</th>\n",
       "      <td>18.200000</td>\n",
       "      <td>18.200000</td>\n",
       "      <td>18.200000</td>\n",
       "      <td>18.100000</td>\n",
       "      <td>18.100000</td>\n",
       "    </tr>\n",
       "    <tr>\n",
       "      <th>RH_8</th>\n",
       "      <td>48.900000</td>\n",
       "      <td>48.863333</td>\n",
       "      <td>48.730000</td>\n",
       "      <td>48.590000</td>\n",
       "      <td>48.590000</td>\n",
       "    </tr>\n",
       "    <tr>\n",
       "      <th>T9</th>\n",
       "      <td>17.033333</td>\n",
       "      <td>17.066667</td>\n",
       "      <td>17.000000</td>\n",
       "      <td>17.000000</td>\n",
       "      <td>17.000000</td>\n",
       "    </tr>\n",
       "    <tr>\n",
       "      <th>RH_9</th>\n",
       "      <td>45.530000</td>\n",
       "      <td>45.560000</td>\n",
       "      <td>45.500000</td>\n",
       "      <td>45.400000</td>\n",
       "      <td>45.400000</td>\n",
       "    </tr>\n",
       "    <tr>\n",
       "      <th>T_out</th>\n",
       "      <td>6.600000</td>\n",
       "      <td>6.483333</td>\n",
       "      <td>6.366667</td>\n",
       "      <td>6.250000</td>\n",
       "      <td>6.133333</td>\n",
       "    </tr>\n",
       "    <tr>\n",
       "      <th>Press_mm_hg</th>\n",
       "      <td>733.500000</td>\n",
       "      <td>733.600000</td>\n",
       "      <td>733.700000</td>\n",
       "      <td>733.800000</td>\n",
       "      <td>733.900000</td>\n",
       "    </tr>\n",
       "    <tr>\n",
       "      <th>RH_out</th>\n",
       "      <td>92.000000</td>\n",
       "      <td>92.000000</td>\n",
       "      <td>92.000000</td>\n",
       "      <td>92.000000</td>\n",
       "      <td>92.000000</td>\n",
       "    </tr>\n",
       "    <tr>\n",
       "      <th>Windspeed</th>\n",
       "      <td>7.000000</td>\n",
       "      <td>6.666667</td>\n",
       "      <td>6.333333</td>\n",
       "      <td>6.000000</td>\n",
       "      <td>5.666667</td>\n",
       "    </tr>\n",
       "    <tr>\n",
       "      <th>Visibility</th>\n",
       "      <td>63.000000</td>\n",
       "      <td>59.166667</td>\n",
       "      <td>55.333333</td>\n",
       "      <td>51.500000</td>\n",
       "      <td>47.666667</td>\n",
       "    </tr>\n",
       "    <tr>\n",
       "      <th>Tdewpoint</th>\n",
       "      <td>5.300000</td>\n",
       "      <td>5.200000</td>\n",
       "      <td>5.100000</td>\n",
       "      <td>5.000000</td>\n",
       "      <td>4.900000</td>\n",
       "    </tr>\n",
       "    <tr>\n",
       "      <th>rv1</th>\n",
       "      <td>13.275433</td>\n",
       "      <td>18.606195</td>\n",
       "      <td>28.642668</td>\n",
       "      <td>45.410389</td>\n",
       "      <td>10.084097</td>\n",
       "    </tr>\n",
       "    <tr>\n",
       "      <th>rv2</th>\n",
       "      <td>13.275433</td>\n",
       "      <td>18.606195</td>\n",
       "      <td>28.642668</td>\n",
       "      <td>45.410389</td>\n",
       "      <td>10.084097</td>\n",
       "    </tr>\n",
       "  </tbody>\n",
       "</table>\n",
       "</div>"
      ],
      "text/plain": [
       "                      0           1           2           3           4\n",
       "Appliances    60.000000   60.000000   50.000000   50.000000   60.000000\n",
       "T1            19.890000   19.890000   19.890000   19.890000   19.890000\n",
       "RH_1          47.596667   46.693333   46.300000   46.066667   46.333333\n",
       "T2            19.200000   19.200000   19.200000   19.200000   19.200000\n",
       "RH_2          44.790000   44.722500   44.626667   44.590000   44.530000\n",
       "T3            19.790000   19.790000   19.790000   19.790000   19.790000\n",
       "RH_3          44.730000   44.790000   44.933333   45.000000   45.000000\n",
       "T4            19.000000   19.000000   18.926667   18.890000   18.890000\n",
       "RH_4          45.566667   45.992500   45.890000   45.723333   45.530000\n",
       "T5            17.166667   17.166667   17.166667   17.166667   17.200000\n",
       "RH_5          55.200000   55.200000   55.090000   55.090000   55.090000\n",
       "T6             7.026667    6.833333    6.560000    6.433333    6.366667\n",
       "RH_6          84.256667   84.063333   83.156667   83.423333   84.893333\n",
       "T7            17.200000   17.200000   17.200000   17.133333   17.200000\n",
       "RH_7          41.626667   41.560000   41.433333   41.290000   41.230000\n",
       "T8            18.200000   18.200000   18.200000   18.100000   18.100000\n",
       "RH_8          48.900000   48.863333   48.730000   48.590000   48.590000\n",
       "T9            17.033333   17.066667   17.000000   17.000000   17.000000\n",
       "RH_9          45.530000   45.560000   45.500000   45.400000   45.400000\n",
       "T_out          6.600000    6.483333    6.366667    6.250000    6.133333\n",
       "Press_mm_hg  733.500000  733.600000  733.700000  733.800000  733.900000\n",
       "RH_out        92.000000   92.000000   92.000000   92.000000   92.000000\n",
       "Windspeed      7.000000    6.666667    6.333333    6.000000    5.666667\n",
       "Visibility    63.000000   59.166667   55.333333   51.500000   47.666667\n",
       "Tdewpoint      5.300000    5.200000    5.100000    5.000000    4.900000\n",
       "rv1           13.275433   18.606195   28.642668   45.410389   10.084097\n",
       "rv2           13.275433   18.606195   28.642668   45.410389   10.084097"
      ]
     },
     "execution_count": 12,
     "metadata": {},
     "output_type": "execute_result"
    }
   ],
   "source": [
    "df2 = df.drop([\"date\",\"lights\"],axis=1)\n",
    "df2.head().T"
   ]
  },
  {
   "cell_type": "code",
   "execution_count": null,
   "id": "e55bc268",
   "metadata": {},
   "outputs": [],
   "source": []
  },
  {
   "cell_type": "code",
   "execution_count": 13,
   "id": "fe0068f7",
   "metadata": {},
   "outputs": [
    {
     "data": {
      "text/plain": [
       "MinMaxScaler()"
      ]
     },
     "execution_count": 13,
     "metadata": {},
     "output_type": "execute_result"
    }
   ],
   "source": [
    "scaler = MinMaxScaler()\n",
    "scaler"
   ]
  },
  {
   "cell_type": "code",
   "execution_count": 14,
   "id": "21c8a51e",
   "metadata": {},
   "outputs": [
    {
     "data": {
      "text/html": [
       "<div>\n",
       "<style scoped>\n",
       "    .dataframe tbody tr th:only-of-type {\n",
       "        vertical-align: middle;\n",
       "    }\n",
       "\n",
       "    .dataframe tbody tr th {\n",
       "        vertical-align: top;\n",
       "    }\n",
       "\n",
       "    .dataframe thead th {\n",
       "        text-align: right;\n",
       "    }\n",
       "</style>\n",
       "<table border=\"1\" class=\"dataframe\">\n",
       "  <thead>\n",
       "    <tr style=\"text-align: right;\">\n",
       "      <th></th>\n",
       "      <th>0</th>\n",
       "      <th>1</th>\n",
       "      <th>2</th>\n",
       "      <th>3</th>\n",
       "      <th>4</th>\n",
       "    </tr>\n",
       "  </thead>\n",
       "  <tbody>\n",
       "    <tr>\n",
       "      <th>Appliances</th>\n",
       "      <td>0.046729</td>\n",
       "      <td>0.046729</td>\n",
       "      <td>0.037383</td>\n",
       "      <td>0.037383</td>\n",
       "      <td>0.046729</td>\n",
       "    </tr>\n",
       "    <tr>\n",
       "      <th>T1</th>\n",
       "      <td>0.327350</td>\n",
       "      <td>0.327350</td>\n",
       "      <td>0.327350</td>\n",
       "      <td>0.327350</td>\n",
       "      <td>0.327350</td>\n",
       "    </tr>\n",
       "    <tr>\n",
       "      <th>RH_1</th>\n",
       "      <td>0.566187</td>\n",
       "      <td>0.541326</td>\n",
       "      <td>0.530502</td>\n",
       "      <td>0.524080</td>\n",
       "      <td>0.531419</td>\n",
       "    </tr>\n",
       "    <tr>\n",
       "      <th>T2</th>\n",
       "      <td>0.225345</td>\n",
       "      <td>0.225345</td>\n",
       "      <td>0.225345</td>\n",
       "      <td>0.225345</td>\n",
       "      <td>0.225345</td>\n",
       "    </tr>\n",
       "    <tr>\n",
       "      <th>RH_2</th>\n",
       "      <td>0.684038</td>\n",
       "      <td>0.682140</td>\n",
       "      <td>0.679445</td>\n",
       "      <td>0.678414</td>\n",
       "      <td>0.676727</td>\n",
       "    </tr>\n",
       "    <tr>\n",
       "      <th>T3</th>\n",
       "      <td>0.215188</td>\n",
       "      <td>0.215188</td>\n",
       "      <td>0.215188</td>\n",
       "      <td>0.215188</td>\n",
       "      <td>0.215188</td>\n",
       "    </tr>\n",
       "    <tr>\n",
       "      <th>RH_3</th>\n",
       "      <td>0.746066</td>\n",
       "      <td>0.748871</td>\n",
       "      <td>0.755569</td>\n",
       "      <td>0.758685</td>\n",
       "      <td>0.758685</td>\n",
       "    </tr>\n",
       "    <tr>\n",
       "      <th>T4</th>\n",
       "      <td>0.351351</td>\n",
       "      <td>0.351351</td>\n",
       "      <td>0.344745</td>\n",
       "      <td>0.341441</td>\n",
       "      <td>0.341441</td>\n",
       "    </tr>\n",
       "    <tr>\n",
       "      <th>RH_4</th>\n",
       "      <td>0.764262</td>\n",
       "      <td>0.782437</td>\n",
       "      <td>0.778062</td>\n",
       "      <td>0.770949</td>\n",
       "      <td>0.762697</td>\n",
       "    </tr>\n",
       "    <tr>\n",
       "      <th>T5</th>\n",
       "      <td>0.175506</td>\n",
       "      <td>0.175506</td>\n",
       "      <td>0.175506</td>\n",
       "      <td>0.175506</td>\n",
       "      <td>0.178691</td>\n",
       "    </tr>\n",
       "    <tr>\n",
       "      <th>RH_5</th>\n",
       "      <td>0.381691</td>\n",
       "      <td>0.381691</td>\n",
       "      <td>0.380037</td>\n",
       "      <td>0.380037</td>\n",
       "      <td>0.380037</td>\n",
       "    </tr>\n",
       "    <tr>\n",
       "      <th>T6</th>\n",
       "      <td>0.381070</td>\n",
       "      <td>0.375443</td>\n",
       "      <td>0.367487</td>\n",
       "      <td>0.363800</td>\n",
       "      <td>0.361859</td>\n",
       "    </tr>\n",
       "    <tr>\n",
       "      <th>RH_6</th>\n",
       "      <td>0.841827</td>\n",
       "      <td>0.839872</td>\n",
       "      <td>0.830704</td>\n",
       "      <td>0.833401</td>\n",
       "      <td>0.848264</td>\n",
       "    </tr>\n",
       "    <tr>\n",
       "      <th>T7</th>\n",
       "      <td>0.170594</td>\n",
       "      <td>0.170594</td>\n",
       "      <td>0.170594</td>\n",
       "      <td>0.164310</td>\n",
       "      <td>0.170594</td>\n",
       "    </tr>\n",
       "    <tr>\n",
       "      <th>RH_7</th>\n",
       "      <td>0.653428</td>\n",
       "      <td>0.651064</td>\n",
       "      <td>0.646572</td>\n",
       "      <td>0.641489</td>\n",
       "      <td>0.639362</td>\n",
       "    </tr>\n",
       "    <tr>\n",
       "      <th>T8</th>\n",
       "      <td>0.173329</td>\n",
       "      <td>0.173329</td>\n",
       "      <td>0.173329</td>\n",
       "      <td>0.164175</td>\n",
       "      <td>0.164175</td>\n",
       "    </tr>\n",
       "    <tr>\n",
       "      <th>RH_8</th>\n",
       "      <td>0.661412</td>\n",
       "      <td>0.660155</td>\n",
       "      <td>0.655586</td>\n",
       "      <td>0.650788</td>\n",
       "      <td>0.650788</td>\n",
       "    </tr>\n",
       "    <tr>\n",
       "      <th>T9</th>\n",
       "      <td>0.223032</td>\n",
       "      <td>0.226500</td>\n",
       "      <td>0.219563</td>\n",
       "      <td>0.219563</td>\n",
       "      <td>0.219563</td>\n",
       "    </tr>\n",
       "    <tr>\n",
       "      <th>RH_9</th>\n",
       "      <td>0.677290</td>\n",
       "      <td>0.678532</td>\n",
       "      <td>0.676049</td>\n",
       "      <td>0.671909</td>\n",
       "      <td>0.671909</td>\n",
       "    </tr>\n",
       "    <tr>\n",
       "      <th>T_out</th>\n",
       "      <td>0.372990</td>\n",
       "      <td>0.369239</td>\n",
       "      <td>0.365488</td>\n",
       "      <td>0.361736</td>\n",
       "      <td>0.357985</td>\n",
       "    </tr>\n",
       "    <tr>\n",
       "      <th>Press_mm_hg</th>\n",
       "      <td>0.097674</td>\n",
       "      <td>0.100000</td>\n",
       "      <td>0.102326</td>\n",
       "      <td>0.104651</td>\n",
       "      <td>0.106977</td>\n",
       "    </tr>\n",
       "    <tr>\n",
       "      <th>RH_out</th>\n",
       "      <td>0.894737</td>\n",
       "      <td>0.894737</td>\n",
       "      <td>0.894737</td>\n",
       "      <td>0.894737</td>\n",
       "      <td>0.894737</td>\n",
       "    </tr>\n",
       "    <tr>\n",
       "      <th>Windspeed</th>\n",
       "      <td>0.500000</td>\n",
       "      <td>0.476190</td>\n",
       "      <td>0.452381</td>\n",
       "      <td>0.428571</td>\n",
       "      <td>0.404762</td>\n",
       "    </tr>\n",
       "    <tr>\n",
       "      <th>Visibility</th>\n",
       "      <td>0.953846</td>\n",
       "      <td>0.894872</td>\n",
       "      <td>0.835897</td>\n",
       "      <td>0.776923</td>\n",
       "      <td>0.717949</td>\n",
       "    </tr>\n",
       "    <tr>\n",
       "      <th>Tdewpoint</th>\n",
       "      <td>0.538462</td>\n",
       "      <td>0.533937</td>\n",
       "      <td>0.529412</td>\n",
       "      <td>0.524887</td>\n",
       "      <td>0.520362</td>\n",
       "    </tr>\n",
       "    <tr>\n",
       "      <th>rv1</th>\n",
       "      <td>0.265449</td>\n",
       "      <td>0.372083</td>\n",
       "      <td>0.572848</td>\n",
       "      <td>0.908261</td>\n",
       "      <td>0.201611</td>\n",
       "    </tr>\n",
       "    <tr>\n",
       "      <th>rv2</th>\n",
       "      <td>0.265449</td>\n",
       "      <td>0.372083</td>\n",
       "      <td>0.572848</td>\n",
       "      <td>0.908261</td>\n",
       "      <td>0.201611</td>\n",
       "    </tr>\n",
       "  </tbody>\n",
       "</table>\n",
       "</div>"
      ],
      "text/plain": [
       "                    0         1         2         3         4\n",
       "Appliances   0.046729  0.046729  0.037383  0.037383  0.046729\n",
       "T1           0.327350  0.327350  0.327350  0.327350  0.327350\n",
       "RH_1         0.566187  0.541326  0.530502  0.524080  0.531419\n",
       "T2           0.225345  0.225345  0.225345  0.225345  0.225345\n",
       "RH_2         0.684038  0.682140  0.679445  0.678414  0.676727\n",
       "T3           0.215188  0.215188  0.215188  0.215188  0.215188\n",
       "RH_3         0.746066  0.748871  0.755569  0.758685  0.758685\n",
       "T4           0.351351  0.351351  0.344745  0.341441  0.341441\n",
       "RH_4         0.764262  0.782437  0.778062  0.770949  0.762697\n",
       "T5           0.175506  0.175506  0.175506  0.175506  0.178691\n",
       "RH_5         0.381691  0.381691  0.380037  0.380037  0.380037\n",
       "T6           0.381070  0.375443  0.367487  0.363800  0.361859\n",
       "RH_6         0.841827  0.839872  0.830704  0.833401  0.848264\n",
       "T7           0.170594  0.170594  0.170594  0.164310  0.170594\n",
       "RH_7         0.653428  0.651064  0.646572  0.641489  0.639362\n",
       "T8           0.173329  0.173329  0.173329  0.164175  0.164175\n",
       "RH_8         0.661412  0.660155  0.655586  0.650788  0.650788\n",
       "T9           0.223032  0.226500  0.219563  0.219563  0.219563\n",
       "RH_9         0.677290  0.678532  0.676049  0.671909  0.671909\n",
       "T_out        0.372990  0.369239  0.365488  0.361736  0.357985\n",
       "Press_mm_hg  0.097674  0.100000  0.102326  0.104651  0.106977\n",
       "RH_out       0.894737  0.894737  0.894737  0.894737  0.894737\n",
       "Windspeed    0.500000  0.476190  0.452381  0.428571  0.404762\n",
       "Visibility   0.953846  0.894872  0.835897  0.776923  0.717949\n",
       "Tdewpoint    0.538462  0.533937  0.529412  0.524887  0.520362\n",
       "rv1          0.265449  0.372083  0.572848  0.908261  0.201611\n",
       "rv2          0.265449  0.372083  0.572848  0.908261  0.201611"
      ]
     },
     "execution_count": 14,
     "metadata": {},
     "output_type": "execute_result"
    }
   ],
   "source": [
    "normalized_df = pd.DataFrame(scaler.fit_transform(df2), columns=df2.columns)\n",
    "normalized_df.head().T"
   ]
  },
  {
   "cell_type": "code",
   "execution_count": 15,
   "id": "878b5642",
   "metadata": {},
   "outputs": [
    {
     "data": {
      "text/plain": [
       "0    0.046729\n",
       "1    0.046729\n",
       "2    0.037383\n",
       "3    0.037383\n",
       "4    0.046729\n",
       "Name: Appliances, dtype: float64"
      ]
     },
     "execution_count": 15,
     "metadata": {},
     "output_type": "execute_result"
    }
   ],
   "source": [
    "y = normalized_df.pop(\"Appliances\")\n",
    "y.head()"
   ]
  },
  {
   "cell_type": "code",
   "execution_count": 16,
   "id": "f474a799",
   "metadata": {},
   "outputs": [
    {
     "data": {
      "text/html": [
       "<div>\n",
       "<style scoped>\n",
       "    .dataframe tbody tr th:only-of-type {\n",
       "        vertical-align: middle;\n",
       "    }\n",
       "\n",
       "    .dataframe tbody tr th {\n",
       "        vertical-align: top;\n",
       "    }\n",
       "\n",
       "    .dataframe thead th {\n",
       "        text-align: right;\n",
       "    }\n",
       "</style>\n",
       "<table border=\"1\" class=\"dataframe\">\n",
       "  <thead>\n",
       "    <tr style=\"text-align: right;\">\n",
       "      <th></th>\n",
       "      <th>0</th>\n",
       "      <th>1</th>\n",
       "      <th>2</th>\n",
       "      <th>3</th>\n",
       "      <th>4</th>\n",
       "    </tr>\n",
       "  </thead>\n",
       "  <tbody>\n",
       "    <tr>\n",
       "      <th>T1</th>\n",
       "      <td>0.327350</td>\n",
       "      <td>0.327350</td>\n",
       "      <td>0.327350</td>\n",
       "      <td>0.327350</td>\n",
       "      <td>0.327350</td>\n",
       "    </tr>\n",
       "    <tr>\n",
       "      <th>RH_1</th>\n",
       "      <td>0.566187</td>\n",
       "      <td>0.541326</td>\n",
       "      <td>0.530502</td>\n",
       "      <td>0.524080</td>\n",
       "      <td>0.531419</td>\n",
       "    </tr>\n",
       "    <tr>\n",
       "      <th>T2</th>\n",
       "      <td>0.225345</td>\n",
       "      <td>0.225345</td>\n",
       "      <td>0.225345</td>\n",
       "      <td>0.225345</td>\n",
       "      <td>0.225345</td>\n",
       "    </tr>\n",
       "    <tr>\n",
       "      <th>RH_2</th>\n",
       "      <td>0.684038</td>\n",
       "      <td>0.682140</td>\n",
       "      <td>0.679445</td>\n",
       "      <td>0.678414</td>\n",
       "      <td>0.676727</td>\n",
       "    </tr>\n",
       "    <tr>\n",
       "      <th>T3</th>\n",
       "      <td>0.215188</td>\n",
       "      <td>0.215188</td>\n",
       "      <td>0.215188</td>\n",
       "      <td>0.215188</td>\n",
       "      <td>0.215188</td>\n",
       "    </tr>\n",
       "    <tr>\n",
       "      <th>RH_3</th>\n",
       "      <td>0.746066</td>\n",
       "      <td>0.748871</td>\n",
       "      <td>0.755569</td>\n",
       "      <td>0.758685</td>\n",
       "      <td>0.758685</td>\n",
       "    </tr>\n",
       "    <tr>\n",
       "      <th>T4</th>\n",
       "      <td>0.351351</td>\n",
       "      <td>0.351351</td>\n",
       "      <td>0.344745</td>\n",
       "      <td>0.341441</td>\n",
       "      <td>0.341441</td>\n",
       "    </tr>\n",
       "    <tr>\n",
       "      <th>RH_4</th>\n",
       "      <td>0.764262</td>\n",
       "      <td>0.782437</td>\n",
       "      <td>0.778062</td>\n",
       "      <td>0.770949</td>\n",
       "      <td>0.762697</td>\n",
       "    </tr>\n",
       "    <tr>\n",
       "      <th>T5</th>\n",
       "      <td>0.175506</td>\n",
       "      <td>0.175506</td>\n",
       "      <td>0.175506</td>\n",
       "      <td>0.175506</td>\n",
       "      <td>0.178691</td>\n",
       "    </tr>\n",
       "    <tr>\n",
       "      <th>RH_5</th>\n",
       "      <td>0.381691</td>\n",
       "      <td>0.381691</td>\n",
       "      <td>0.380037</td>\n",
       "      <td>0.380037</td>\n",
       "      <td>0.380037</td>\n",
       "    </tr>\n",
       "    <tr>\n",
       "      <th>T6</th>\n",
       "      <td>0.381070</td>\n",
       "      <td>0.375443</td>\n",
       "      <td>0.367487</td>\n",
       "      <td>0.363800</td>\n",
       "      <td>0.361859</td>\n",
       "    </tr>\n",
       "    <tr>\n",
       "      <th>RH_6</th>\n",
       "      <td>0.841827</td>\n",
       "      <td>0.839872</td>\n",
       "      <td>0.830704</td>\n",
       "      <td>0.833401</td>\n",
       "      <td>0.848264</td>\n",
       "    </tr>\n",
       "    <tr>\n",
       "      <th>T7</th>\n",
       "      <td>0.170594</td>\n",
       "      <td>0.170594</td>\n",
       "      <td>0.170594</td>\n",
       "      <td>0.164310</td>\n",
       "      <td>0.170594</td>\n",
       "    </tr>\n",
       "    <tr>\n",
       "      <th>RH_7</th>\n",
       "      <td>0.653428</td>\n",
       "      <td>0.651064</td>\n",
       "      <td>0.646572</td>\n",
       "      <td>0.641489</td>\n",
       "      <td>0.639362</td>\n",
       "    </tr>\n",
       "    <tr>\n",
       "      <th>T8</th>\n",
       "      <td>0.173329</td>\n",
       "      <td>0.173329</td>\n",
       "      <td>0.173329</td>\n",
       "      <td>0.164175</td>\n",
       "      <td>0.164175</td>\n",
       "    </tr>\n",
       "    <tr>\n",
       "      <th>RH_8</th>\n",
       "      <td>0.661412</td>\n",
       "      <td>0.660155</td>\n",
       "      <td>0.655586</td>\n",
       "      <td>0.650788</td>\n",
       "      <td>0.650788</td>\n",
       "    </tr>\n",
       "    <tr>\n",
       "      <th>T9</th>\n",
       "      <td>0.223032</td>\n",
       "      <td>0.226500</td>\n",
       "      <td>0.219563</td>\n",
       "      <td>0.219563</td>\n",
       "      <td>0.219563</td>\n",
       "    </tr>\n",
       "    <tr>\n",
       "      <th>RH_9</th>\n",
       "      <td>0.677290</td>\n",
       "      <td>0.678532</td>\n",
       "      <td>0.676049</td>\n",
       "      <td>0.671909</td>\n",
       "      <td>0.671909</td>\n",
       "    </tr>\n",
       "    <tr>\n",
       "      <th>T_out</th>\n",
       "      <td>0.372990</td>\n",
       "      <td>0.369239</td>\n",
       "      <td>0.365488</td>\n",
       "      <td>0.361736</td>\n",
       "      <td>0.357985</td>\n",
       "    </tr>\n",
       "    <tr>\n",
       "      <th>Press_mm_hg</th>\n",
       "      <td>0.097674</td>\n",
       "      <td>0.100000</td>\n",
       "      <td>0.102326</td>\n",
       "      <td>0.104651</td>\n",
       "      <td>0.106977</td>\n",
       "    </tr>\n",
       "    <tr>\n",
       "      <th>RH_out</th>\n",
       "      <td>0.894737</td>\n",
       "      <td>0.894737</td>\n",
       "      <td>0.894737</td>\n",
       "      <td>0.894737</td>\n",
       "      <td>0.894737</td>\n",
       "    </tr>\n",
       "    <tr>\n",
       "      <th>Windspeed</th>\n",
       "      <td>0.500000</td>\n",
       "      <td>0.476190</td>\n",
       "      <td>0.452381</td>\n",
       "      <td>0.428571</td>\n",
       "      <td>0.404762</td>\n",
       "    </tr>\n",
       "    <tr>\n",
       "      <th>Visibility</th>\n",
       "      <td>0.953846</td>\n",
       "      <td>0.894872</td>\n",
       "      <td>0.835897</td>\n",
       "      <td>0.776923</td>\n",
       "      <td>0.717949</td>\n",
       "    </tr>\n",
       "    <tr>\n",
       "      <th>Tdewpoint</th>\n",
       "      <td>0.538462</td>\n",
       "      <td>0.533937</td>\n",
       "      <td>0.529412</td>\n",
       "      <td>0.524887</td>\n",
       "      <td>0.520362</td>\n",
       "    </tr>\n",
       "    <tr>\n",
       "      <th>rv1</th>\n",
       "      <td>0.265449</td>\n",
       "      <td>0.372083</td>\n",
       "      <td>0.572848</td>\n",
       "      <td>0.908261</td>\n",
       "      <td>0.201611</td>\n",
       "    </tr>\n",
       "    <tr>\n",
       "      <th>rv2</th>\n",
       "      <td>0.265449</td>\n",
       "      <td>0.372083</td>\n",
       "      <td>0.572848</td>\n",
       "      <td>0.908261</td>\n",
       "      <td>0.201611</td>\n",
       "    </tr>\n",
       "  </tbody>\n",
       "</table>\n",
       "</div>"
      ],
      "text/plain": [
       "                    0         1         2         3         4\n",
       "T1           0.327350  0.327350  0.327350  0.327350  0.327350\n",
       "RH_1         0.566187  0.541326  0.530502  0.524080  0.531419\n",
       "T2           0.225345  0.225345  0.225345  0.225345  0.225345\n",
       "RH_2         0.684038  0.682140  0.679445  0.678414  0.676727\n",
       "T3           0.215188  0.215188  0.215188  0.215188  0.215188\n",
       "RH_3         0.746066  0.748871  0.755569  0.758685  0.758685\n",
       "T4           0.351351  0.351351  0.344745  0.341441  0.341441\n",
       "RH_4         0.764262  0.782437  0.778062  0.770949  0.762697\n",
       "T5           0.175506  0.175506  0.175506  0.175506  0.178691\n",
       "RH_5         0.381691  0.381691  0.380037  0.380037  0.380037\n",
       "T6           0.381070  0.375443  0.367487  0.363800  0.361859\n",
       "RH_6         0.841827  0.839872  0.830704  0.833401  0.848264\n",
       "T7           0.170594  0.170594  0.170594  0.164310  0.170594\n",
       "RH_7         0.653428  0.651064  0.646572  0.641489  0.639362\n",
       "T8           0.173329  0.173329  0.173329  0.164175  0.164175\n",
       "RH_8         0.661412  0.660155  0.655586  0.650788  0.650788\n",
       "T9           0.223032  0.226500  0.219563  0.219563  0.219563\n",
       "RH_9         0.677290  0.678532  0.676049  0.671909  0.671909\n",
       "T_out        0.372990  0.369239  0.365488  0.361736  0.357985\n",
       "Press_mm_hg  0.097674  0.100000  0.102326  0.104651  0.106977\n",
       "RH_out       0.894737  0.894737  0.894737  0.894737  0.894737\n",
       "Windspeed    0.500000  0.476190  0.452381  0.428571  0.404762\n",
       "Visibility   0.953846  0.894872  0.835897  0.776923  0.717949\n",
       "Tdewpoint    0.538462  0.533937  0.529412  0.524887  0.520362\n",
       "rv1          0.265449  0.372083  0.572848  0.908261  0.201611\n",
       "rv2          0.265449  0.372083  0.572848  0.908261  0.201611"
      ]
     },
     "execution_count": 16,
     "metadata": {},
     "output_type": "execute_result"
    }
   ],
   "source": [
    "X = normalized_df.loc[:, :]\n",
    "X.head().T"
   ]
  },
  {
   "cell_type": "code",
   "execution_count": 17,
   "id": "751e411e",
   "metadata": {},
   "outputs": [
    {
     "data": {
      "text/plain": [
       "((13814, 26), (5921, 26), (13814,), (5921,))"
      ]
     },
     "execution_count": 17,
     "metadata": {},
     "output_type": "execute_result"
    }
   ],
   "source": [
    "X_train, X_test, y_train, y_test = train_test_split(X, y, test_size=.3, random_state=42)\n",
    "\n",
    "X_train.shape, X_test.shape, y_train.shape, y_test.shape"
   ]
  },
  {
   "cell_type": "code",
   "execution_count": null,
   "id": "4d3459e9",
   "metadata": {},
   "outputs": [],
   "source": []
  },
  {
   "cell_type": "code",
   "execution_count": 18,
   "id": "84ae9e4c",
   "metadata": {},
   "outputs": [
    {
     "data": {
      "text/plain": [
       "LinearRegression()"
      ]
     },
     "execution_count": 18,
     "metadata": {},
     "output_type": "execute_result"
    }
   ],
   "source": [
    "model = LinearRegression()\n",
    "model.fit(X_train, y_train)"
   ]
  },
  {
   "cell_type": "code",
   "execution_count": 19,
   "id": "8145a419",
   "metadata": {},
   "outputs": [
    {
     "data": {
      "text/plain": [
       "array([0.03322282, 0.24411482, 0.03403573, ..., 0.06842656, 0.1003157 ,\n",
       "       0.0572441 ])"
      ]
     },
     "execution_count": 19,
     "metadata": {},
     "output_type": "execute_result"
    }
   ],
   "source": [
    "y_preds = model.predict(X_test)\n",
    "y_preds"
   ]
  },
  {
   "cell_type": "code",
   "execution_count": 20,
   "id": "93a8870a",
   "metadata": {},
   "outputs": [
    {
     "data": {
      "text/plain": [
       "0.05013340192512841"
      ]
     },
     "execution_count": 20,
     "metadata": {},
     "output_type": "execute_result"
    }
   ],
   "source": [
    "mae = mean_absolute_error(y_test, y_preds)\n",
    "mae"
   ]
  },
  {
   "cell_type": "code",
   "execution_count": 21,
   "id": "624156d7",
   "metadata": {},
   "outputs": [
    {
     "data": {
      "text/plain": [
       "0.05"
      ]
     },
     "execution_count": 21,
     "metadata": {},
     "output_type": "execute_result"
    }
   ],
   "source": [
    "round(mae,2)"
   ]
  },
  {
   "cell_type": "code",
   "execution_count": 22,
   "id": "2925a4a5",
   "metadata": {},
   "outputs": [
    {
     "data": {
      "text/plain": [
       "45.35"
      ]
     },
     "execution_count": 22,
     "metadata": {},
     "output_type": "execute_result"
    }
   ],
   "source": [
    "rss = np.sum(np.square(y_test - y_preds))\n",
    "round(rss,2)"
   ]
  },
  {
   "cell_type": "code",
   "execution_count": null,
   "id": "0f335368",
   "metadata": {},
   "outputs": [],
   "source": []
  },
  {
   "cell_type": "code",
   "execution_count": 23,
   "id": "f02d2941",
   "metadata": {},
   "outputs": [
    {
     "data": {
      "text/plain": [
       "0.088"
      ]
     },
     "execution_count": 23,
     "metadata": {},
     "output_type": "execute_result"
    }
   ],
   "source": [
    "rmse = np.sqrt(mean_squared_error(y_test, y_preds))\n",
    "round(rmse,3)"
   ]
  },
  {
   "cell_type": "code",
   "execution_count": null,
   "id": "a6472b62",
   "metadata": {},
   "outputs": [],
   "source": []
  },
  {
   "cell_type": "code",
   "execution_count": 24,
   "id": "06ccab20",
   "metadata": {},
   "outputs": [
    {
     "data": {
      "text/plain": [
       "0.1447194374397689"
      ]
     },
     "execution_count": 24,
     "metadata": {},
     "output_type": "execute_result"
    }
   ],
   "source": [
    "r_squared = model.score(X_train, y_train)\n",
    "r_squared"
   ]
  },
  {
   "cell_type": "code",
   "execution_count": null,
   "id": "a5efa37b",
   "metadata": {},
   "outputs": [],
   "source": []
  },
  {
   "cell_type": "code",
   "execution_count": 25,
   "id": "afdd022c",
   "metadata": {},
   "outputs": [
    {
     "data": {
      "text/plain": [
       "array([-3.28105119e-03,  5.53543181e-01, -2.36182781e-01, -4.56704738e-01,\n",
       "        2.90629361e-01,  9.60513654e-02,  2.89690357e-02,  2.63952124e-02,\n",
       "       -1.56527025e-02,  1.60059493e-02,  2.36426608e-01,  3.80508971e-02,\n",
       "        1.03187989e-02, -4.46095766e-02,  1.01996341e-01, -1.57601566e-01,\n",
       "       -1.89931250e-01, -3.98024576e-02, -3.21849866e-01,  6.84024354e-03,\n",
       "       -7.76631636e-02,  2.91789260e-02,  1.23057649e-02,  1.17747893e-01,\n",
       "        3.33294104e+10, -3.33294104e+10])"
      ]
     },
     "execution_count": 25,
     "metadata": {},
     "output_type": "execute_result"
    }
   ],
   "source": [
    "weights = model.coef_\n",
    "weights"
   ]
  },
  {
   "cell_type": "code",
   "execution_count": null,
   "id": "41288c9a",
   "metadata": {},
   "outputs": [],
   "source": []
  },
  {
   "cell_type": "code",
   "execution_count": 26,
   "id": "5c672d15",
   "metadata": {},
   "outputs": [
    {
     "data": {
      "text/plain": [
       "25"
      ]
     },
     "execution_count": 26,
     "metadata": {},
     "output_type": "execute_result"
    }
   ],
   "source": [
    "feature_index_with_lowest_weight = weights.argmin()\n",
    "feature_index_with_lowest_weight"
   ]
  },
  {
   "cell_type": "code",
   "execution_count": 27,
   "id": "16afe98f",
   "metadata": {},
   "outputs": [
    {
     "data": {
      "text/plain": [
       "-33329410353.026226"
      ]
     },
     "execution_count": 27,
     "metadata": {},
     "output_type": "execute_result"
    }
   ],
   "source": [
    "lowest_weight = weights[feature_index_with_lowest_weight]\n",
    "lowest_weight"
   ]
  },
  {
   "cell_type": "code",
   "execution_count": 28,
   "id": "7c3476f3",
   "metadata": {},
   "outputs": [
    {
     "data": {
      "text/plain": [
       "['Appliances',\n",
       " 'T1',\n",
       " 'RH_1',\n",
       " 'T2',\n",
       " 'RH_2',\n",
       " 'T3',\n",
       " 'RH_3',\n",
       " 'T4',\n",
       " 'RH_4',\n",
       " 'T5',\n",
       " 'RH_5',\n",
       " 'T6',\n",
       " 'RH_6',\n",
       " 'T7',\n",
       " 'RH_7',\n",
       " 'T8',\n",
       " 'RH_8',\n",
       " 'T9',\n",
       " 'RH_9',\n",
       " 'T_out',\n",
       " 'Press_mm_hg',\n",
       " 'RH_out',\n",
       " 'Windspeed',\n",
       " 'Visibility',\n",
       " 'Tdewpoint',\n",
       " 'rv1',\n",
       " 'rv2']"
      ]
     },
     "execution_count": 28,
     "metadata": {},
     "output_type": "execute_result"
    }
   ],
   "source": [
    "feature_names = df2.columns.to_list()\n",
    "feature_names"
   ]
  },
  {
   "cell_type": "code",
   "execution_count": 29,
   "id": "b6b90767",
   "metadata": {},
   "outputs": [
    {
     "data": {
      "text/plain": [
       "'rv1'"
      ]
     },
     "execution_count": 29,
     "metadata": {},
     "output_type": "execute_result"
    }
   ],
   "source": [
    "feature_name = feature_names[feature_index_with_lowest_weight]\n",
    "feature_name"
   ]
  },
  {
   "cell_type": "code",
   "execution_count": null,
   "id": "a12cbd33",
   "metadata": {},
   "outputs": [],
   "source": []
  },
  {
   "cell_type": "code",
   "execution_count": null,
   "id": "7fa6b34d",
   "metadata": {},
   "outputs": [],
   "source": []
  },
  {
   "cell_type": "code",
   "execution_count": 30,
   "id": "60118cbe",
   "metadata": {},
   "outputs": [
    {
     "data": {
      "text/plain": [
       "24"
      ]
     },
     "execution_count": 30,
     "metadata": {},
     "output_type": "execute_result"
    }
   ],
   "source": [
    "feature_index_with_highest_weight = weights.argmax()\n",
    "feature_index_with_highest_weight"
   ]
  },
  {
   "cell_type": "code",
   "execution_count": 31,
   "id": "7d9fa576",
   "metadata": {},
   "outputs": [
    {
     "data": {
      "text/plain": [
       "33329410353.027695"
      ]
     },
     "execution_count": 31,
     "metadata": {},
     "output_type": "execute_result"
    }
   ],
   "source": [
    "highest_weight = weights[feature_index_with_highest_weight]\n",
    "highest_weight"
   ]
  },
  {
   "cell_type": "code",
   "execution_count": 32,
   "id": "9d67bb7c",
   "metadata": {},
   "outputs": [
    {
     "data": {
      "text/plain": [
       "'Tdewpoint'"
      ]
     },
     "execution_count": 32,
     "metadata": {},
     "output_type": "execute_result"
    }
   ],
   "source": [
    "feature_name = feature_names[feature_index_with_highest_weight]\n",
    "feature_name"
   ]
  },
  {
   "cell_type": "code",
   "execution_count": null,
   "id": "1d991d76",
   "metadata": {},
   "outputs": [],
   "source": []
  },
  {
   "cell_type": "code",
   "execution_count": null,
   "id": "f0716fbb",
   "metadata": {},
   "outputs": [],
   "source": []
  },
  {
   "cell_type": "code",
   "execution_count": 33,
   "id": "9723c692",
   "metadata": {},
   "outputs": [
    {
     "data": {
      "text/plain": [
       "Ridge(alpha=0.4)"
      ]
     },
     "execution_count": 33,
     "metadata": {},
     "output_type": "execute_result"
    }
   ],
   "source": [
    "model = Ridge(alpha=.4)\n",
    "model.fit(X_train, y_train)"
   ]
  },
  {
   "cell_type": "code",
   "execution_count": 34,
   "id": "5b86f4da",
   "metadata": {},
   "outputs": [
    {
     "data": {
      "text/plain": [
       "array([0.03321872, 0.24043824, 0.03461337, ..., 0.06872351, 0.10025536,\n",
       "       0.05851175])"
      ]
     },
     "execution_count": 34,
     "metadata": {},
     "output_type": "execute_result"
    }
   ],
   "source": [
    "y_preds = model.predict(X_test)\n",
    "y_preds"
   ]
  },
  {
   "cell_type": "code",
   "execution_count": 35,
   "id": "a79f1ed2",
   "metadata": {},
   "outputs": [],
   "source": [
    "# mae = mean_absolute_error(y_test, y_preds)\n",
    "# mae"
   ]
  },
  {
   "cell_type": "code",
   "execution_count": 36,
   "id": "4bec2053",
   "metadata": {},
   "outputs": [
    {
     "data": {
      "text/plain": [
       "0.088"
      ]
     },
     "execution_count": 36,
     "metadata": {},
     "output_type": "execute_result"
    }
   ],
   "source": [
    "rmse2 = np.sqrt(mean_squared_error(y_test, y_preds))\n",
    "round(rmse2,3)"
   ]
  },
  {
   "cell_type": "code",
   "execution_count": 37,
   "id": "5cd7b67c",
   "metadata": {},
   "outputs": [
    {
     "data": {
      "text/plain": [
       "0.088"
      ]
     },
     "execution_count": 37,
     "metadata": {},
     "output_type": "execute_result"
    }
   ],
   "source": [
    "round(rmse,3)"
   ]
  },
  {
   "cell_type": "code",
   "execution_count": null,
   "id": "5c914691",
   "metadata": {},
   "outputs": [],
   "source": []
  },
  {
   "cell_type": "code",
   "execution_count": null,
   "id": "54f72ce3",
   "metadata": {},
   "outputs": [],
   "source": []
  },
  {
   "cell_type": "code",
   "execution_count": 39,
   "id": "9fcaf612",
   "metadata": {},
   "outputs": [
    {
     "data": {
      "text/plain": [
       "Lasso(alpha=0.001)"
      ]
     },
     "execution_count": 39,
     "metadata": {},
     "output_type": "execute_result"
    }
   ],
   "source": [
    "model = Lasso(alpha=.001)\n",
    "model.fit(X_train, y_train)"
   ]
  },
  {
   "cell_type": "code",
   "execution_count": null,
   "id": "1680088f",
   "metadata": {},
   "outputs": [],
   "source": []
  }
 ],
 "metadata": {
  "kernelspec": {
   "display_name": "Python 3",
   "language": "python",
   "name": "python3"
  },
  "language_info": {
   "codemirror_mode": {
    "name": "ipython",
    "version": 3
   },
   "file_extension": ".py",
   "mimetype": "text/x-python",
   "name": "python",
   "nbconvert_exporter": "python",
   "pygments_lexer": "ipython3",
   "version": "3.8.8"
  }
 },
 "nbformat": 4,
 "nbformat_minor": 5
}
